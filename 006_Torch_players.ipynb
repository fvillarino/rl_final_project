{
 "cells": [
  {
   "cell_type": "markdown",
   "id": "55e8dd61-a1b5-44ff-a7fd-215d3c6bdee2",
   "metadata": {},
   "source": [
    "# Crear un TorchPlayer\n"
   ]
  },
  {
   "cell_type": "markdown",
   "id": "9e8578ae-4e1f-482b-9113-c273bdc35f8c",
   "metadata": {},
   "source": [
    "Recibe el modelo a instanciar como path y juega con el mismo"
   ]
  },
  {
   "cell_type": "markdown",
   "id": "5d709faf-8879-4ddd-95f9-4a5ee0e5b74e",
   "metadata": {},
   "source": [
    "- Pensar como resolver el problema de que solo samplee las válidas\n",
    "- Agregarle la opción de monte carlo tree search (opcional) con las opciones de iterationLimit, timeLimit\n",
    "\n",
    "Si va a agregar MCTS mirar la notebook 007_MCTS.ipnb"
   ]
  },
  {
   "cell_type": "code",
   "execution_count": 1,
   "id": "015b6078-461c-43bf-9c26-f227c588d83b",
   "metadata": {},
   "outputs": [],
   "source": [
    "from stable_baselines3 import PPO\n",
    "from players import DictPolicyPlayer, RandomPlayer, GreedyPlayer\n",
    "from boardgame2 import ReversiEnv\n",
    "import numpy as np"
   ]
  },
  {
   "cell_type": "code",
   "execution_count": 2,
   "id": "84f5c470-4dc9-4be9-8222-6c7df3b97e55",
   "metadata": {},
   "outputs": [],
   "source": [
    "class TorchPlayer():\n",
    "    # \n",
    "    def __init__(self, model_path=None, player=1, board_shape=None, env=None, deterministic=True, only_valid=True, mcts=False, iterationLimit=None, timeLimit=None, flatten_action=False):\n",
    "        if model_path is None:\n",
    "            model_path = './models/Reversi_PPO_8by8_0.99_0.95_0.0_10_6_masked_actions/best_model.zip'\n",
    "        self.model = PPO.load(model_path)\n",
    "        self.player = player\n",
    "        self.flatten_action = flatten_action\n",
    "        if (env is None) and (board_shape is None):\n",
    "            print(\"board_shape and env can't be both None\")\n",
    "        if env is None:\n",
    "            self.env = self.model.env\n",
    "        if board_shape is None:\n",
    "            self.board_shape = env.board_shape\n",
    "        else:\n",
    "            self.board_shape = board_shape\n",
    "        \n",
    "    def predict(self, board):\n",
    "        board = board * self.player\n",
    "        board_reshape = board[np.newaxis,:,:]\n",
    "        action = self.model.predict(board_reshape)[0]\n",
    "        if self.flatten_action:\n",
    "            return action\n",
    "        else:\n",
    "            return [action // self.board_shape, action % self.board_shape]\n",
    "        return action"
   ]
  },
  {
   "cell_type": "markdown",
   "id": "cfaf25a3-f5a2-4bdc-8086-f5507a7f8fd0",
   "metadata": {},
   "source": [
    "# Arena"
   ]
  },
  {
   "cell_type": "markdown",
   "id": "5acfcf1e-8c56-4448-91ef-45a6a3f5d3de",
   "metadata": {},
   "source": [
    "Testear el jugador contra los distintos jugadore"
   ]
  },
  {
   "cell_type": "code",
   "execution_count": 3,
   "id": "7925d8b0-c1ab-4057-ac70-2caadc925c2d",
   "metadata": {},
   "outputs": [
    {
     "name": "stdout",
     "output_type": "stream",
     "text": [
      "[[ 0  0  0  0  0  0  0  0]\n",
      " [ 0  0  0  0  0  0  0  0]\n",
      " [ 0  0  0  0  0  0  0  0]\n",
      " [ 0  0  0  1 -1  0  0  0]\n",
      " [ 0  0  0 -1  1  0  0  0]\n",
      " [ 0  0  0  0  0  0  0  0]\n",
      " [ 0  0  0  0  0  0  0  0]\n",
      " [ 0  0  0  0  0  0  0  0]]\n",
      "1\n"
     ]
    }
   ],
   "source": [
    "board_shape = 8\n",
    "env = ReversiEnv(board_shape=board_shape)\n",
    "(board, player) = env.reset()\n",
    "print(board)\n",
    "print(player)"
   ]
  },
  {
   "cell_type": "code",
   "execution_count": 4,
   "id": "ead7c2d2-3271-4b30-8720-514688a854b1",
   "metadata": {},
   "outputs": [],
   "source": [
    "gp = GreedyPlayer(player=1, board_shape=8)\n",
    "rp = RandomPlayer(player=1, board_shape=8)\n",
    "op = DictPolicyPlayer(player=1, board_shape=8, flatten_action=True)"
   ]
  },
  {
   "cell_type": "code",
   "execution_count": 5,
   "id": "9422c89f-1b3d-415f-81c1-accfe77881d6",
   "metadata": {},
   "outputs": [
    {
     "data": {
      "text/plain": [
       "array([4, 2])"
      ]
     },
     "execution_count": 5,
     "metadata": {},
     "output_type": "execute_result"
    }
   ],
   "source": [
    "gp.predict(board)"
   ]
  },
  {
   "cell_type": "code",
   "execution_count": 6,
   "id": "5dfbaeae-7daa-4189-a023-7841ccffdcdd",
   "metadata": {},
   "outputs": [],
   "source": [
    "#model_path = './models/Reversi_PPO_8by8_0.99_0.95_0.0_10_6_masked_actions/best_model.zip'\n",
    "model_path = './models/Reversi_PPO_8by8_0.99_0.95_0.0_10_5_masked_actions_25_08/best_model.zip'"
   ]
  },
  {
   "cell_type": "code",
   "execution_count": 7,
   "id": "356a99fb-35f9-45e3-957f-90b786b74c41",
   "metadata": {},
   "outputs": [],
   "source": [
    "tp = TorchPlayer(model_path=model_path,player=1,board_shape=8, flatten_action=True)"
   ]
  },
  {
   "cell_type": "code",
   "execution_count": 8,
   "id": "20522d8b-2b13-4a1e-8276-96881ae4a9c2",
   "metadata": {},
   "outputs": [
    {
     "data": {
      "text/plain": [
       "array([20])"
      ]
     },
     "execution_count": 8,
     "metadata": {},
     "output_type": "execute_result"
    }
   ],
   "source": [
    "tp.predict(board[np.newaxis,:,:])"
   ]
  },
  {
   "cell_type": "markdown",
   "id": "84a367f5-dea6-4f21-b95d-a81951eeadb3",
   "metadata": {},
   "source": [
    "### Arena"
   ]
  },
  {
   "cell_type": "code",
   "execution_count": 9,
   "id": "94cf0cae-6e38-445f-83eb-806ade816898",
   "metadata": {},
   "outputs": [],
   "source": [
    "def arena_stats(Player_1, Player_2, board_shape, N=500):\n",
    "    \n",
    "    env = ReversiEnv(board_shape=board_shape)\n",
    "    wins_as_first = 0\n",
    "    wins_as_second = 0\n",
    "    plays_as_first = 0\n",
    "    plays_as_second = 0\n",
    "    total_steps = 0\n",
    "    player_1 = Player_1(player=1, board_shape=board_shape, flatten_action=False)\n",
    "    player_2 = Player_2(player=-1, board_shape=board_shape, flatten_action=False) # Implementar\n",
    "    for i in range(N):\n",
    "        # Aveces empieza un jugador, a veces el otro\n",
    "        first_player = np.random.choice([-1, 1])\n",
    "        player_1.player = first_player\n",
    "        player_2.player = -first_player\n",
    "        \n",
    "        plays_as_first = plays_as_first + (first_player == 1)\n",
    "        plays_as_second = plays_as_second + (first_player == -1)\n",
    "        \n",
    "        done = False\n",
    "        n_steps = 0\n",
    "        (board, player) = env.reset()\n",
    "        \n",
    "        while not done:\n",
    "            if first_player == player:\n",
    "                action = player_1.predict(board=board)# Juega el jugador 1\n",
    "            else:\n",
    "                action = player_2.predict(board=board)# Juega el jugador 2\n",
    "            (board, player), reward, done, info = env.step(action)\n",
    "            n_steps = n_steps + 1\n",
    "        total_steps = total_steps + n_steps\n",
    "        wins_as_first = wins_as_first + (reward == first_player) * (first_player == 1)\n",
    "        wins_as_second = wins_as_second + (reward == first_player) * (first_player == -1)\n",
    "    print(f'Wins as first: {wins_as_first/plays_as_first}')\n",
    "    print(f'Wins as second: {wins_as_second/plays_as_second}')\n",
    "    print(f'Plays as first: {plays_as_first}')\n",
    "    print(f'Plays as second: {plays_as_second}')\n",
    "    print(f'Avg game duration: {total_steps/N}')"
   ]
  },
  {
   "cell_type": "code",
   "execution_count": 10,
   "id": "88fc14b0-c25b-4707-acd1-f92f2e8f5b4d",
   "metadata": {},
   "outputs": [
    {
     "name": "stdout",
     "output_type": "stream",
     "text": [
      "Wins as first: 0.7073921971252567\n",
      "Wins as second: 0.6617933723196882\n",
      "Plays as first: 974\n",
      "Plays as second: 1026\n",
      "Avg game duration: 59.6305\n"
     ]
    }
   ],
   "source": [
    "arena_stats(TorchPlayer, GreedyPlayer, 8, N=2000)"
   ]
  },
  {
   "cell_type": "code",
   "execution_count": 11,
   "id": "00e2ce1e-6c2f-4720-a71a-4c4b0eaf3dbd",
   "metadata": {},
   "outputs": [
    {
     "name": "stdout",
     "output_type": "stream",
     "text": [
      "Wins as first: 0.7441204139228599\n",
      "Wins as second: 0.7033084311632871\n",
      "Plays as first: 1063\n",
      "Plays as second: 937\n",
      "Avg game duration: 59.8785\n"
     ]
    }
   ],
   "source": [
    "arena_stats(TorchPlayer, RandomPlayer, 8, N=2000)"
   ]
  },
  {
   "cell_type": "code",
   "execution_count": 10,
   "id": "247dadf3-f481-4198-b111-2d102f0bd361",
   "metadata": {},
   "outputs": [
    {
     "name": "stdout",
     "output_type": "stream",
     "text": [
      "Wins as first: 0.6958661417322834\n",
      "Wins as second: 0.6453252032520326\n",
      "Plays as first: 1016\n",
      "Plays as second: 984\n",
      "Avg game duration: 59.7705\n"
     ]
    }
   ],
   "source": [
    "arena_stats(TorchPlayer, GreedyPlayer, 8, N=2000)"
   ]
  },
  {
   "cell_type": "code",
   "execution_count": 11,
   "id": "e5962185-1287-4902-bbf7-57aca71f9baa",
   "metadata": {},
   "outputs": [
    {
     "name": "stdout",
     "output_type": "stream",
     "text": [
      "Wins as first: 0.7400204708290685\n",
      "Wins as second: 0.7253176930596286\n",
      "Plays as first: 977\n",
      "Plays as second: 1023\n",
      "Avg game duration: 59.9015\n"
     ]
    }
   ],
   "source": [
    "arena_stats(TorchPlayer, RandomPlayer, 8, N=2000)"
   ]
  },
  {
   "cell_type": "code",
   "execution_count": null,
   "id": "2418c4bc-1f63-42a1-97a5-c88307ea337e",
   "metadata": {},
   "outputs": [],
   "source": []
  }
 ],
 "metadata": {
  "kernelspec": {
   "display_name": "Python 3",
   "language": "python",
   "name": "python3"
  },
  "language_info": {
   "codemirror_mode": {
    "name": "ipython",
    "version": 3
   },
   "file_extension": ".py",
   "mimetype": "text/x-python",
   "name": "python",
   "nbconvert_exporter": "python",
   "pygments_lexer": "ipython3",
   "version": "3.8.10"
  }
 },
 "nbformat": 4,
 "nbformat_minor": 5
}
